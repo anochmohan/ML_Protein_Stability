{
 "cells": [
  {
   "cell_type": "code",
   "execution_count": 13,
   "metadata": {},
   "outputs": [],
   "source": [
    "import os\n",
    "import random\n",
    "import numpy as np\n",
    "from Bio import SeqIO\n",
    "from Bio.PDB import PDBParser, MMCIFIO\n",
    "from Bio.SeqUtils.ProtParam import ProteinAnalysis\n",
    "from sklearn.ensemble import GradientBoostingRegressor\n",
    "from sklearn.model_selection import train_test_split\n",
    "from sklearn.metrics import mean_squared_error"
   ]
  },
  {
   "cell_type": "code",
   "execution_count": 2,
   "metadata": {},
   "outputs": [],
   "source": [
    "# Function to read sequences from proteinnet7\n",
    "def read_proteinnet_sequences(file_path):\n",
    "    sequences = []\n",
    "    with open(file_path, \"r\") as file:\n",
    "        for record in SeqIO.parse(file, \"fasta\"):\n",
    "            sequences.append(str(record.seq))\n",
    "    return sequences"
   ]
  },
  {
   "cell_type": "code",
   "execution_count": 3,
   "metadata": {},
   "outputs": [],
   "source": [
    "def introduce_variation(sequence, num_variants=5, mutation_rate=0.1):\n",
    "    # Generate variants by introducing mutations\n",
    "    variants = []\n",
    "    for _ in range(num_variants):\n",
    "        mutated_seq = list(sequence)\n",
    "        for i in range(len(sequence)):\n",
    "            if random.random() < mutation_rate:\n",
    "                mutated_seq[i] = random.choice(\"ACDEFGHIKLMNPQRSTVWY\")  # Random AA substitution\n",
    "        variants.append(\"\".join(mutated_seq))\n",
    "    return variants"
   ]
  },
  {
   "cell_type": "code",
   "execution_count": 4,
   "metadata": {},
   "outputs": [],
   "source": [
    "def save_to_mmcif(structure, output_path):\n",
    "    # Save the modified structure to mmCIF format\n",
    "    io = MMCIFIO()\n",
    "    io.set_structure(structure)\n",
    "    io.save(output_path)"
   ]
  },
  {
   "cell_type": "code",
   "execution_count": 5,
   "metadata": {},
   "outputs": [],
   "source": [
    "def generate_and_save_structures(variant_seq, template_structure_path, output_dir, variant_index):\n",
    "    # Parse the template PDB structure\n",
    "    parser = PDBParser(QUIET=True)\n",
    "    template_structure = parser.get_structure(\"template\", template_structure_path)\n",
    "    \n",
    "    # Save the variant structure in mmCIF format with unique filename\n",
    "    output_path = os.path.join(output_dir, f\"variant_{variant_index}.cif\")\n",
    "    save_to_mmcif(template_structure, output_path)\n",
    "    print(f\"Saved variant {variant_index} structure to {output_path}\")"
   ]
  },
  {
   "cell_type": "code",
   "execution_count": 6,
   "metadata": {},
   "outputs": [],
   "source": [
    "# ML model for protein stability prediction\n",
    "def extract_sequence_features(sequence):\n",
    "    amino_acids = \"ACDEFGHIKLMNPQRSTVWY\"\n",
    "    features = np.array([sequence.count(aa) / len(sequence) for aa in amino_acids])\n",
    "    return features\n",
    "\n",
    "def generate_training_data_from_file(file_path):\n",
    "    sequences = read_proteinnet_sequences(file_path)\n",
    "    data = []\n",
    "    labels = []\n",
    "    \n",
    "    for sequence in sequences:\n",
    "        features = extract_sequence_features(sequence)\n",
    "        \n",
    "        # Example stability score as label (replace with actual data if available)\n",
    "        stability_score = random.uniform(-10, 10)  # Synthetic stability score range\n",
    "        data.append(features)\n",
    "        labels.append(stability_score)\n",
    "    \n",
    "    return np.array(data), np.array(labels)\n",
    "\n",
    "def train_stability_model(X, y):\n",
    "    model = GradientBoostingRegressor()\n",
    "    model.fit(X, y)\n",
    "    return model\n",
    "\n",
    "def predict_stability(model, sequence):\n",
    "    features = extract_sequence_features(sequence).reshape(1, -1)\n",
    "    return model.predict(features)[0]"
   ]
  },
  {
   "cell_type": "code",
   "execution_count": 7,
   "metadata": {},
   "outputs": [],
   "source": [
    "# Read sequences from the proteinnet4 file for training\n",
    "proteinnet_file = \"proteinnet7\"\n",
    "X, y = generate_training_data_from_file(proteinnet_file)"
   ]
  },
  {
   "cell_type": "code",
   "execution_count": 8,
   "metadata": {},
   "outputs": [],
   "source": [
    "# Split data into train and test sets\n",
    "X_train, X_test, y_train, y_test = train_test_split(X, y, test_size=0.2, random_state=42)"
   ]
  },
  {
   "cell_type": "code",
   "execution_count": 9,
   "metadata": {},
   "outputs": [
    {
     "name": "stdout",
     "output_type": "stream",
     "text": [
      "Model Test MSE: 33.336\n"
     ]
    }
   ],
   "source": [
    "# Train stability model\n",
    "stability_model = train_stability_model(X_train, y_train)\n",
    "y_pred = stability_model.predict(X_test)\n",
    "mse = mean_squared_error(y_test, y_pred)\n",
    "print(f\"Model Test MSE: {mse:.3f}\")"
   ]
  },
  {
   "cell_type": "code",
   "execution_count": 10,
   "metadata": {},
   "outputs": [],
   "source": [
    "# Generate variants for a specific sequence\n",
    "# fasta_file = \"mecA.fasta\"\n",
    "template_structure_path = \"2d45.pdb\"\n",
    "# mecA seq\n",
    "sequence = \"MLTVYGHRGLPSKAPENTIASFKAASEVEGINWLELDVAITKDEQLIIIHEDYLERTTNMSGEITELNYDEIKDASAGSWFGEKFKDEHLPSFDDVVKIANEYNMNLNVELKGITGPNGLALSKSMVKQVEEQLTNLNQNQEELI\"\n",
    "num_variants = 5\n",
    "variants = introduce_variation(sequence, num_variants=num_variants)"
   ]
  },
  {
   "cell_type": "code",
   "execution_count": 14,
   "metadata": {},
   "outputs": [],
   "source": [
    "def calculate_protparam_properties(sequence):\n",
    "    # Validate the sequence to ensure it contains only valid amino acids\n",
    "    valid_amino_acids = set(\"ACDEFGHIKLMNPQRSTVWY\")\n",
    "    if not set(sequence).issubset(valid_amino_acids):\n",
    "        raise ValueError(f\"Invalid character found in sequence: {sequence}\")\n",
    "    \n",
    "    # Analyze the sequence using Bio.SeqUtils.ProtParam\n",
    "    analysis = ProteinAnalysis(sequence)\n",
    "    instability_index = analysis.instability_index()\n",
    "    \n",
    "    return instability_index"
   ]
  },
  {
   "cell_type": "code",
   "execution_count": 15,
   "metadata": {},
   "outputs": [
    {
     "name": "stdout",
     "output_type": "stream",
     "text": [
      "Variant 1:\n",
      "    ML Predicted Stability Score = 0.001\n",
      "    ProteinAnalysis Instability Score = 32.071\n",
      "Saved variant 1 structure to ./variants/variant_1.cif\n",
      "Variant 2:\n",
      "    ML Predicted Stability Score = 0.001\n",
      "    ProteinAnalysis Instability Score = 36.739\n",
      "Saved variant 2 structure to ./variants/variant_2.cif\n",
      "Variant 3:\n",
      "    ML Predicted Stability Score = -0.004\n",
      "    ProteinAnalysis Instability Score = 23.254\n",
      "Saved variant 3 structure to ./variants/variant_3.cif\n",
      "Variant 4:\n",
      "    ML Predicted Stability Score = -0.006\n",
      "    ProteinAnalysis Instability Score = 38.064\n",
      "Saved variant 4 structure to ./variants/variant_4.cif\n",
      "Variant 5:\n",
      "    ML Predicted Stability Score = -0.006\n",
      "    ProteinAnalysis Instability Score = 38.706\n",
      "Saved variant 5 structure to ./variants/variant_5.cif\n"
     ]
    }
   ],
   "source": [
    "# Predict and display stability for each variant, and save each variant as a structure\n",
    "output_dir = \"./variants\"\n",
    "if not os.path.exists(output_dir):\n",
    "    os.makedirs(output_dir)\n",
    "\n",
    "for i, variant_seq in enumerate(variants, start=1):  # Start indexing at 1\n",
    "    # print(variant_seq + \"\\n\")\n",
    "    \n",
    "    try:\n",
    "        # Predict stability score\n",
    "        stability_score = predict_stability(stability_model, variant_seq)\n",
    "        instability_score = calculate_protparam_properties(variant_seq)\n",
    "        print(f\"Variant {i}:\")\n",
    "        print(f\"    ML Predicted Stability Score = {stability_score:.3f}\")\n",
    "        print(f\"    ProteinAnalysis Instability Score = {instability_score:.3f}\")\n",
    "        \n",
    "        # Generate and save structure in mmCIF format\n",
    "        generate_and_save_structures(variant_seq, template_structure_path, output_dir, i)\n",
    "    except ValueError as e:\n",
    "        print(f\"Error processing variant {i}: {e}\")"
   ]
  },
  {
   "cell_type": "code",
   "execution_count": 16,
   "metadata": {},
   "outputs": [],
   "source": [
    "! cp 2d45.cif ./variants/"
   ]
  },
  {
   "cell_type": "code",
   "execution_count": 17,
   "metadata": {},
   "outputs": [
    {
     "name": "stdout",
     "output_type": "stream",
     "text": [
      "Create directory output_dir\n",
      "easy-msa ./variants/ result output_dir --report-mode 2 \n",
      "\n",
      "MMseqs Version:             \t1.763a428\n",
      "Path to ProstT5             \t\n",
      "Chain name mode             \t0\n",
      "Write mapping file          \t0\n",
      "Mask b-factor threshold     \t0\n",
      "Coord store mode            \t2\n",
      "Write lookup file           \t1\n",
      "Input format                \t0\n",
      "File Inclusion Regex        \t.*\n",
      "File Exclusion Regex        \t^$\n",
      "Threads                     \t8\n",
      "Verbosity                   \t3\n",
      "Global sequence weighting   \ttrue\n",
      "Match ratio                 \t0.51\n",
      "Filter MSA                  \t1\n",
      "Select N most diverse seqs  \t1000\n",
      "Minimum score per column    \t-20\n",
      "Gap open cost               \taa:10,nucl:10\n",
      "Gap extension cost          \taa:1,nucl:1\n",
      "Mask profile                \t1\n",
      "Pseudo count mode           \t0\n",
      "AA alignment PCA            \t1.1\n",
      "AA alignment PCB            \t4.1\n",
      "3Di alignment PCA           \t1.4\n",
      "3Di alignment PCB           \t1.5\n",
      "AA alignment score bias     \t0.6\n",
      "3Di alignment score bias    \t0.6\n",
      "Input Newick guide tree     \t\n",
      "Recompute scores            \tfalse\n",
      "Regressive alignment        \tfalse\n",
      "Substitution matrix         \taa:3di.out,nucl:3di.out\n",
      "Max sequence length         \t65535\n",
      "Total refinement iterations \t0\n",
      "AA matrix bit factor        \t1.1\n",
      "3Di matrix bit factor       \t2.1\n",
      "LDDT pair threshold         \t0\n",
      "Compositional bias          \t1\n",
      "Random number generator seed\t-1\n",
      "                            \t\n",
      "                            \ttrue\n",
      "Pre-cluster structures      \tfalse\n",
      "Report mode                 \t2\n",
      "\n",
      "createdb ./variants/ output_dir/16753370946046807856/structures --chain-name-mode 0 --write-mapping 0 --mask-bfactor-threshold 0 --coord-store-mode 2 --write-lookup 1 --input-format 0 --file-include '.*' --file-exclude '^$' --threads 8 -v 3 \n",
      "\n",
      "Output file: output_dir/16753370946046807856/structures\n",
      "[=================================================================] 100.00% 6 0s 2ms      \n",
      "Time for merging to structures_ss: 0h 0m 0s 1ms\n",
      "Time for merging to structures_h: 0h 0m 0s 0ms\n",
      "Time for merging to structures_ca: 0h 0m 0s 0ms\n",
      "Time for merging to structures: 0h 0m 0s 0ms\n",
      "Ignore 32 out of 56.\n",
      "Too short: 32, incorrect: 0, not proteins: 0.\n",
      "Time for processing: 0h 0m 0s 188ms\n",
      "structuremsa output_dir/16753370946046807856/structures result --wg 1 --match-ratio 0.51 --filter-msa 1 --diff 1000 --qsc -20 --gap-open aa:10,nucl:10 --gap-extend aa:1,nucl:1 --mask-profile 1 --pseudo-cnt-mode 0 --pca-aa 1.1 --pcb-aa 4.1 --pca-3di 1.4 --pcb-3di 1.5 --score-bias-aa 0.6 --score-bias-3di 0.6 --recompute-scores 0 --regressive 0 --sub-mat 'aa:3di.out,nucl:3di.out' --threads 8 --max-seq-len 65535 --refine-iters 0 --bitfactor-aa 1.1 --bitfactor-3di 2.1 --pair-threshold 0 --comp-bias-corr 1 -v 3 --refine-seed -1 \n",
      "\n",
      "Got databases\n",
      "Got substitution matrices\n",
      "Initialised MSAs, Sequence objects\n",
      "Set up tiny substitution matrices\n",
      "Performing initial all vs all alignments\n",
      "Generating guide tree\n",
      "Optimising merge order\n",
      "Writing guide tree to: result.nw\n",
      "Begin progressive alignment\n",
      "Time for merging to result_aa.fa: 0h 0m 0s 0ms\n",
      "Time for merging to result_3di.fa: 0h 0m 0s 0ms\n",
      "Time for processing: 0h 0m 0s 370ms\n",
      "msa2lddtjson output_dir/16753370946046807856/structures result_aa.fa result.json --guide-tree result.nw --pair-threshold 0 --threads 8 -v 3 --report-command '--match-ratio 0.51 --filter-msa 1 --gap-open aa:10,nucl:10 --gap-extend aa:1,nucl:1 --report-mode 2 ' --report-paths 1 \n",
      "\n",
      "Average MSA LDDT: 0.978172\n",
      "Columns considered: 119/119\n",
      "Column scores: 1.000000,1.000000,0.973856,0.978049,0.964423,0.969492,0.974735,0.975882,0.965874,0.973349,0.975886,0.998457,0.839332,0.842966,0.974758,0.979294,0.974731,0.998062,0.852942,0.969216,0.970304,0.981155,0.978704,0.972326,0.964178,0.971433,0.967166,0.968974,0.965411,0.963380,0.962884,0.962098,1.000000,0.822938,0.948533,0.966543,0.964901,0.970935,0.970142,0.968653,0.974790,0.968259,0.973037,0.978640,0.977349,0.972458,0.971027,0.976038,0.971540,0.973873,0.971094,0.970575,0.961449,0.961461,0.959969,0.968678,0.983092,0.985750,0.998948,0.997624,1.000000,1.000000,0.995652,0.998518,1.000000,0.983284,0.978122,0.973736,0.967337,0.971133,0.966974,0.972812,0.969205,0.968318,0.975911,0.959033,0.961542,0.980671,0.981208,0.970875,1.000000,1.000000,0.983696,1.000000,0.998641,0.996953,1.000000,1.000000,1.000000,1.000000,0.998284,0.997036,1.000000,1.000000,1.000000,0.999531,0.993083,0.999477,1.000000,0.998717,0.995747,0.998188,0.996044,0.996377,0.998284,0.996739,0.996512,0.996456,1.000000,0.972790,0.998003,1.000000,1.000000,1.000000,1.000000,1.000000,1.000000,1.000000,1.000000\n",
      "Time for merging to result.json: 0h 0m 0s 0ms\n",
      "Report command: --match-ratio 0.51 --filter-msa 1 --gap-open aa:10,nucl:10 --gap-extend aa:1,nucl:1 --report-mode 2 \n",
      "Time for processing: 0h 0m 0s 13ms\n",
      "rmdb output_dir/16753370946046807856/result -v 3 \n",
      "\n",
      "Time for processing: 0h 0m 0s 0ms\n",
      "rmdb output_dir/16753370946046807856/query -v 3 \n",
      "\n",
      "Time for processing: 0h 0m 0s 0ms\n",
      "rmdb output_dir/16753370946046807856/query_h -v 3 \n",
      "\n",
      "Time for processing: 0h 0m 0s 0ms\n",
      "rmdb output_dir/16753370946046807856/query_ca -v 3 \n",
      "\n",
      "Time for processing: 0h 0m 0s 0ms\n",
      "rmdb output_dir/16753370946046807856/query_ss -v 3 \n",
      "\n",
      "Time for processing: 0h 0m 0s 0ms\n"
     ]
    }
   ],
   "source": [
    "! foldmason easy-msa ./variants/ result output_dir --report-mode 2"
   ]
  }
 ],
 "metadata": {
  "kernelspec": {
   "display_name": "ml_project",
   "language": "python",
   "name": "python3"
  },
  "language_info": {
   "codemirror_mode": {
    "name": "ipython",
    "version": 3
   },
   "file_extension": ".py",
   "mimetype": "text/x-python",
   "name": "python",
   "nbconvert_exporter": "python",
   "pygments_lexer": "ipython3",
   "version": "3.12.7"
  }
 },
 "nbformat": 4,
 "nbformat_minor": 2
}
